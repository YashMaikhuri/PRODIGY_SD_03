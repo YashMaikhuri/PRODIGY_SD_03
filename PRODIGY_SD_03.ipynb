{
 "cells": [
  {
   "cell_type": "code",
   "execution_count": 1,
   "id": "128c5d07-c18b-4e1c-8136-33d8a1aadc64",
   "metadata": {},
   "outputs": [
    {
     "name": "stdout",
     "output_type": "stream",
     "text": [
      "\n",
      "Contact Manager Menu:\n",
      "1. Add Contact\n",
      "2. View Contacts\n",
      "3. Edit Contact\n",
      "4. Delete Contact\n",
      "5. Exit\n"
     ]
    },
    {
     "name": "stdin",
     "output_type": "stream",
     "text": [
      "Choose an option (1-5):  5\n"
     ]
    },
    {
     "name": "stdout",
     "output_type": "stream",
     "text": [
      "Exiting the contact manager.\n"
     ]
    }
   ],
   "source": [
    "import json\n",
    "\n",
    "# File to store contacts persistently\n",
    "CONTACTS_FILE = \"contacts.json\"\n",
    "\n",
    "# Function to load contacts from the file\n",
    "def load_contacts():\n",
    "    try:\n",
    "        with open(CONTACTS_FILE, \"r\") as file:\n",
    "            return json.load(file)\n",
    "    except FileNotFoundError:\n",
    "        return {}\n",
    "\n",
    "# Function to save contacts to the file\n",
    "def save_contacts(contacts):\n",
    "    with open(CONTACTS_FILE, \"w\") as file:\n",
    "        json.dump(contacts, file, indent=4)\n",
    "\n",
    "# Function to add a new contact\n",
    "def add_contact(contacts):\n",
    "    name = input(\"Enter the name: \")\n",
    "    phone = input(\"Enter the phone number: \")\n",
    "    email = input(\"Enter the email address: \")\n",
    "    \n",
    "    contacts[name] = {\"Phone\": phone, \"Email\": email}\n",
    "    save_contacts(contacts)\n",
    "    print(f\"Contact for {name} added.\")\n",
    "\n",
    "# Function to view all contacts\n",
    "def view_contacts(contacts):\n",
    "    if not contacts:\n",
    "        print(\"No contacts found.\")\n",
    "    else:\n",
    "        print(\"\\nContact List:\")\n",
    "        for name, details in contacts.items():\n",
    "            print(f\"Name: {name}, Phone: {details['Phone']}, Email: {details['Email']}\")\n",
    "\n",
    "# Function to edit a contact\n",
    "def edit_contact(contacts):\n",
    "    name = input(\"Enter the name of the contact you want to edit: \")\n",
    "    \n",
    "    if name in contacts:\n",
    "        print(f\"Current Phone: {contacts[name]['Phone']}, Current Email: {contacts[name]['Email']}\")\n",
    "        phone = input(\"Enter the new phone number: \")\n",
    "        email = input(\"Enter the new email address: \")\n",
    "        \n",
    "        contacts[name] = {\"Phone\": phone, \"Email\": email}\n",
    "        save_contacts(contacts)\n",
    "        print(f\"Contact for {name} updated.\")\n",
    "    else:\n",
    "        print(f\"Contact for {name} not found.\")\n",
    "\n",
    "# Function to delete a contact\n",
    "def delete_contact(contacts):\n",
    "    name = input(\"Enter the name of the contact you want to delete: \")\n",
    "    \n",
    "    if name in contacts:\n",
    "        del contacts[name]\n",
    "        save_contacts(contacts)\n",
    "        print(f\"Contact for {name} deleted.\")\n",
    "    else:\n",
    "        print(f\"Contact for {name} not found.\")\n",
    "\n",
    "# Main Program\n",
    "def main():\n",
    "    contacts = load_contacts()\n",
    "\n",
    "    while True:\n",
    "        print(\"\\nContact Manager Menu:\")\n",
    "        print(\"1. Add Contact\")\n",
    "        print(\"2. View Contacts\")\n",
    "        print(\"3. Edit Contact\")\n",
    "        print(\"4. Delete Contact\")\n",
    "        print(\"5. Exit\")\n",
    "        \n",
    "        choice = input(\"Choose an option (1-5): \")\n",
    "        \n",
    "        if choice == \"1\":\n",
    "            add_contact(contacts)\n",
    "        elif choice == \"2\":\n",
    "            view_contacts(contacts)\n",
    "        elif choice == \"3\":\n",
    "            edit_contact(contacts)\n",
    "        elif choice == \"4\":\n",
    "            delete_contact(contacts)\n",
    "        elif choice == \"5\":\n",
    "            print(\"Exiting the contact manager.\")\n",
    "            break\n",
    "        else:\n",
    "            print(\"Invalid option. Please choose a number between 1 and 5.\")\n",
    "\n",
    "# Run the program\n",
    "if __name__ == \"__main__\":\n",
    "    main()\n"
   ]
  },
  {
   "cell_type": "code",
   "execution_count": null,
   "id": "a19654ff-ee97-460a-9fac-227dd6ec952a",
   "metadata": {},
   "outputs": [],
   "source": []
  }
 ],
 "metadata": {
  "kernelspec": {
   "display_name": "Python 3 (ipykernel)",
   "language": "python",
   "name": "python3"
  },
  "language_info": {
   "codemirror_mode": {
    "name": "ipython",
    "version": 3
   },
   "file_extension": ".py",
   "mimetype": "text/x-python",
   "name": "python",
   "nbconvert_exporter": "python",
   "pygments_lexer": "ipython3",
   "version": "3.11.8"
  }
 },
 "nbformat": 4,
 "nbformat_minor": 5
}
